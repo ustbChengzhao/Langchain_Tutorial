{
 "cells": [
  {
   "cell_type": "markdown",
   "id": "71661777",
   "metadata": {},
   "source": [
    "+ 避免将重复的内容写入矢量存储\n",
    "+ 避免重写未更改的内容\n",
    "+ 避免在未更改的内容上重新计算嵌入"
   ]
  },
  {
   "cell_type": "code",
   "execution_count": null,
   "id": "0c69bc64",
   "metadata": {},
   "outputs": [],
   "source": []
  }
 ],
 "metadata": {
  "kernelspec": {
   "display_name": "pytorch",
   "language": "python",
   "name": "pytorch"
  },
  "language_info": {
   "codemirror_mode": {
    "name": "ipython",
    "version": 3
   },
   "file_extension": ".py",
   "mimetype": "text/x-python",
   "name": "python",
   "nbconvert_exporter": "python",
   "pygments_lexer": "ipython3",
   "version": "3.11.7"
  }
 },
 "nbformat": 4,
 "nbformat_minor": 5
}
