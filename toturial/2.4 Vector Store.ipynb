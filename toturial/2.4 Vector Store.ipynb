{
 "cells": [
  {
   "cell_type": "markdown",
   "id": "a43c0180",
   "metadata": {},
   "source": [
    "## Vector Store"
   ]
  },
  {
   "cell_type": "code",
   "execution_count": 1,
   "id": "96fa07bd",
   "metadata": {},
   "outputs": [
    {
     "name": "stdout",
     "output_type": "stream",
     "text": [
      "OpenAI API KEY:········\n"
     ]
    }
   ],
   "source": [
    "import os\n",
    "import getpass\n",
    "\n",
    "os.environ[\"OPENAI_API_KEY\"] = getpass.getpass(\"OpenAI API KEY:\")"
   ]
  },
  {
   "cell_type": "markdown",
   "id": "a59cf020",
   "metadata": {},
   "source": [
    "### 1. 存储词嵌入向量"
   ]
  },
  {
   "cell_type": "code",
   "execution_count": 4,
   "id": "66fb8084",
   "metadata": {},
   "outputs": [],
   "source": [
    "from langchain_community.document_loaders import TextLoader\n",
    "from langchain_openai import OpenAIEmbeddings\n",
    "from langchain.text_splitter import CharacterTextSplitter\n",
    "from langchain_community.vectorstores import FAISS\n",
    "\n",
    "raw_documents = TextLoader(\"./example data/HuggingFaceOverview.txt\").load()\n",
    "text_splitter = CharacterTextSplitter(chunk_size=1000, chunk_overlap=0)\n",
    "documents = text_splitter.split_documents(raw_documents)\n",
    "db = FAISS.from_documents(documents, OpenAIEmbeddings())"
   ]
  },
  {
   "cell_type": "markdown",
   "id": "651ac182",
   "metadata": {},
   "source": [
    "## 2. 相似度查询"
   ]
  },
  {
   "cell_type": "code",
   "execution_count": 6,
   "id": "d2aaade2",
   "metadata": {},
   "outputs": [
    {
     "name": "stdout",
     "output_type": "stream",
     "text": [
      "Hugging Face is a technology company that has gained recognition for its significant contributions to the field of natural language processing (NLP) and artificial intelligence (AI). It is best known for its development and maintenance of the Transformers library, which provides state-of-the-art machine learning models for NLP tasks such as text classification, information extraction, question answering, and more.\n",
      "\n",
      "The company was founded with the goal of democratizing access to cutting-edge AI technology, making it easier for researchers, developers, and businesses to leverage complex machine learning models. Hugging Face has built a community-centric platform where users can share and collaborate on models, datasets, and research, fostering innovation and advancements in the field.\n"
     ]
    }
   ],
   "source": [
    "query = \"What is Hugging Face the best konwn for people?\"\n",
    "docs = db.similarity_search(query)\n",
    "print(docs[0].page_content)"
   ]
  },
  {
   "cell_type": "markdown",
   "id": "e038276c",
   "metadata": {},
   "source": [
    "## 3. 通过向量进行相似度查询"
   ]
  },
  {
   "cell_type": "code",
   "execution_count": 7,
   "id": "c6efe0b3",
   "metadata": {},
   "outputs": [
    {
     "name": "stdout",
     "output_type": "stream",
     "text": [
      "Hugging Face is a technology company that has gained recognition for its significant contributions to the field of natural language processing (NLP) and artificial intelligence (AI). It is best known for its development and maintenance of the Transformers library, which provides state-of-the-art machine learning models for NLP tasks such as text classification, information extraction, question answering, and more.\n",
      "\n",
      "The company was founded with the goal of democratizing access to cutting-edge AI technology, making it easier for researchers, developers, and businesses to leverage complex machine learning models. Hugging Face has built a community-centric platform where users can share and collaborate on models, datasets, and research, fostering innovation and advancements in the field.\n"
     ]
    }
   ],
   "source": [
    "embedding_vector = OpenAIEmbeddings().embed_query(query)\n",
    "docs = db.similarity_search_by_vector(embedding_vector)\n",
    "print(docs[0].page_content)"
   ]
  }
 ],
 "metadata": {
  "kernelspec": {
   "display_name": "pytorch",
   "language": "python",
   "name": "pytorch"
  },
  "language_info": {
   "codemirror_mode": {
    "name": "ipython",
    "version": 3
   },
   "file_extension": ".py",
   "mimetype": "text/x-python",
   "name": "python",
   "nbconvert_exporter": "python",
   "pygments_lexer": "ipython3",
   "version": "3.11.7"
  }
 },
 "nbformat": 4,
 "nbformat_minor": 5
}
