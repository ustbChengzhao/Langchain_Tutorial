{
 "cells": [
  {
   "cell_type": "markdown",
   "id": "991254f8",
   "metadata": {},
   "source": [
    "## 1. Split by character\n",
    "+ 文本分割方式：单独的字符\n",
    "+ 计算文本块大小方式：字符的数量"
   ]
  },
  {
   "cell_type": "code",
   "execution_count": 3,
   "id": "c3aa3b33",
   "metadata": {},
   "outputs": [],
   "source": [
    "with open(\"./example data/hamlet.txt\") as f:\n",
    "    fiction = f.read()"
   ]
  },
  {
   "cell_type": "code",
   "execution_count": 12,
   "id": "bbe52bb3",
   "metadata": {},
   "outputs": [],
   "source": [
    "from langchain.text_splitter import CharacterTextSplitter\n",
    "\n",
    "text_splitter = CharacterTextSplitter(\n",
    "    chunk_size=1000,\n",
    "    chunk_overlap=200,\n",
    "    length_function=len,\n",
    "    is_separator_regex=False\n",
    ")"
   ]
  },
  {
   "cell_type": "code",
   "execution_count": 13,
   "id": "26011fa2",
   "metadata": {},
   "outputs": [
    {
     "name": "stderr",
     "output_type": "stream",
     "text": [
      "Created a chunk of size 1307, which is longer than the specified 1000\n",
      "Created a chunk of size 4126, which is longer than the specified 1000\n",
      "Created a chunk of size 2446, which is longer than the specified 1000\n",
      "Created a chunk of size 7752, which is longer than the specified 1000\n",
      "Created a chunk of size 4735, which is longer than the specified 1000\n",
      "Created a chunk of size 2413, which is longer than the specified 1000\n",
      "Created a chunk of size 4118, which is longer than the specified 1000\n",
      "Created a chunk of size 1808, which is longer than the specified 1000\n",
      "Created a chunk of size 2816, which is longer than the specified 1000\n",
      "Created a chunk of size 5153, which is longer than the specified 1000\n",
      "Created a chunk of size 1735, which is longer than the specified 1000\n",
      "Created a chunk of size 2029, which is longer than the specified 1000\n",
      "Created a chunk of size 3485, which is longer than the specified 1000\n",
      "Created a chunk of size 2235, which is longer than the specified 1000\n",
      "Created a chunk of size 1987, which is longer than the specified 1000\n",
      "Created a chunk of size 2632, which is longer than the specified 1000\n",
      "Created a chunk of size 2128, which is longer than the specified 1000\n",
      "Created a chunk of size 2365, which is longer than the specified 1000\n",
      "Created a chunk of size 6993, which is longer than the specified 1000\n",
      "Created a chunk of size 1116, which is longer than the specified 1000\n",
      "Created a chunk of size 1560, which is longer than the specified 1000\n",
      "Created a chunk of size 1424, which is longer than the specified 1000\n",
      "Created a chunk of size 4146, which is longer than the specified 1000\n",
      "Created a chunk of size 2788, which is longer than the specified 1000\n",
      "Created a chunk of size 5125, which is longer than the specified 1000\n",
      "Created a chunk of size 1315, which is longer than the specified 1000\n",
      "Created a chunk of size 2468, which is longer than the specified 1000\n",
      "Created a chunk of size 1792, which is longer than the specified 1000\n",
      "Created a chunk of size 1898, which is longer than the specified 1000\n",
      "Created a chunk of size 1337, which is longer than the specified 1000\n",
      "Created a chunk of size 2050, which is longer than the specified 1000\n",
      "Created a chunk of size 1414, which is longer than the specified 1000\n",
      "Created a chunk of size 2022, which is longer than the specified 1000\n",
      "Created a chunk of size 1219, which is longer than the specified 1000\n",
      "Created a chunk of size 1206, which is longer than the specified 1000\n",
      "Created a chunk of size 1304, which is longer than the specified 1000\n",
      "Created a chunk of size 2301, which is longer than the specified 1000\n",
      "Created a chunk of size 1220, which is longer than the specified 1000\n",
      "Created a chunk of size 4706, which is longer than the specified 1000\n",
      "Created a chunk of size 5622, which is longer than the specified 1000\n",
      "Created a chunk of size 1545, which is longer than the specified 1000\n",
      "Created a chunk of size 1216, which is longer than the specified 1000\n",
      "Created a chunk of size 2588, which is longer than the specified 1000\n",
      "Created a chunk of size 2774, which is longer than the specified 1000\n",
      "Created a chunk of size 1064, which is longer than the specified 1000\n",
      "Created a chunk of size 1647, which is longer than the specified 1000\n",
      "Created a chunk of size 2116, which is longer than the specified 1000\n",
      "Created a chunk of size 1022, which is longer than the specified 1000\n",
      "Created a chunk of size 1261, which is longer than the specified 1000\n",
      "Created a chunk of size 1722, which is longer than the specified 1000\n",
      "Created a chunk of size 6213, which is longer than the specified 1000\n",
      "Created a chunk of size 1653, which is longer than the specified 1000\n",
      "Created a chunk of size 2448, which is longer than the specified 1000\n",
      "Created a chunk of size 1546, which is longer than the specified 1000\n",
      "Created a chunk of size 1097, which is longer than the specified 1000\n",
      "Created a chunk of size 4263, which is longer than the specified 1000\n",
      "Created a chunk of size 4484, which is longer than the specified 1000\n",
      "Created a chunk of size 3786, which is longer than the specified 1000\n",
      "Created a chunk of size 5191, which is longer than the specified 1000\n",
      "Created a chunk of size 1469, which is longer than the specified 1000\n",
      "Created a chunk of size 7335, which is longer than the specified 1000\n",
      "Created a chunk of size 2169, which is longer than the specified 1000\n"
     ]
    },
    {
     "name": "stdout",
     "output_type": "stream",
     "text": [
      "page_content=\"THE TRAGEDY OF HAMLET, PRINCE OF DENMARK\\n\\n\\nby William Shakespeare\\n\\nDramatis Personae\\n\\n  Claudius, King of Denmark.\\n  Marcellus, Officer.\\n  Hamlet, son to the former, and nephew to the present king.\\n  Polonius, Lord Chamberlain.\\n  Horatio, friend to Hamlet.\\n  Laertes, son to Polonius.\\n  Voltemand, courtier.\\n  Cornelius, courtier.\\n  Rosencrantz, courtier.\\n  Guildenstern, courtier.\\n  Osric, courtier.\\n  A Gentleman, courtier.\\n  A Priest.\\n  Marcellus, officer.\\n  Bernardo, officer.\\n  Francisco, a soldier\\n  Reynaldo, servant to Polonius.\\n  Players.\\n  Two Clowns, gravediggers.\\n  Fortinbras, Prince of Norway.  \\n  A Norwegian Captain.\\n  English Ambassadors.\\n\\n  Getrude, Queen of Denmark, mother to Hamlet.\\n  Ophelia, daughter to Polonius.\\n\\n  Ghost of Hamlet's Father.\\n\\n  Lords, ladies, Officers, Soldiers, Sailors, Messengers, Attendants.\\n\\nSCENE.- Elsinore.\\n\\n\\nACT I. Scene I.\\nElsinore. A platform before the Castle.\"\n"
     ]
    }
   ],
   "source": [
    "texts = text_splitter.create_documents([fiction])\n",
    "print(texts[0])"
   ]
  },
  {
   "cell_type": "code",
   "execution_count": null,
   "id": "fc07b818",
   "metadata": {},
   "outputs": [],
   "source": []
  }
 ],
 "metadata": {
  "kernelspec": {
   "display_name": "pytorch",
   "language": "python",
   "name": "pytorch"
  },
  "language_info": {
   "codemirror_mode": {
    "name": "ipython",
    "version": 3
   },
   "file_extension": ".py",
   "mimetype": "text/x-python",
   "name": "python",
   "nbconvert_exporter": "python",
   "pygments_lexer": "ipython3",
   "version": "3.11.7"
  }
 },
 "nbformat": 4,
 "nbformat_minor": 5
}
