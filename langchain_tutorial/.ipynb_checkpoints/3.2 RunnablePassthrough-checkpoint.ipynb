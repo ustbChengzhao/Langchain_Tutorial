{
 "cells": [
  {
   "cell_type": "markdown",
   "id": "04990d43",
   "metadata": {},
   "source": [
    "+ RunnablePassthrough可以获取用户的输入\n",
    "+ 同时可以在用户的输入上添加额外的键值对"
   ]
  },
  {
   "cell_type": "code",
   "execution_count": 7,
   "id": "c1721e12",
   "metadata": {},
   "outputs": [
    {
     "data": {
      "text/plain": [
       "{'passed': {'num': 1},\n",
       " 'extra': {'num': 1, 'mult': 3},\n",
       " 'extra_plus': {'num': 1, 'extra': 6},\n",
       " 'modified': 2}"
      ]
     },
     "execution_count": 7,
     "metadata": {},
     "output_type": "execute_result"
    }
   ],
   "source": [
    "from langchain_core.runnables import RunnableParallel, RunnablePassthrough\n",
    "\n",
    "runnable = RunnableParallel(\n",
    "    # passed接收用户的输入\n",
    "    passed=RunnablePassthrough(),\n",
    "    \n",
    "    # extra在用户输入的值的基础上，添加新的值\n",
    "    extra=RunnablePassthrough.assign(mult=lambda x: x[\"num\"] * 3),\n",
    "    \n",
    "    extra_plus=RunnablePassthrough.assign(extra=lambda x: x[\"num\"] + 5),\n",
    "    # modified基于用户输入的值进行修改 \n",
    "    modified=lambda x: x[\"num\"] + 1,\n",
    ")\n",
    "\n",
    "runnable.invoke({\"num\": 1})"
   ]
  }
 ],
 "metadata": {
  "kernelspec": {
   "display_name": "Python 3 (ipykernel)",
   "language": "python",
   "name": "python3"
  },
  "language_info": {
   "codemirror_mode": {
    "name": "ipython",
    "version": 3
   },
   "file_extension": ".py",
   "mimetype": "text/x-python",
   "name": "python",
   "nbconvert_exporter": "python",
   "pygments_lexer": "ipython3",
   "version": "3.11.5"
  }
 },
 "nbformat": 4,
 "nbformat_minor": 5
}
