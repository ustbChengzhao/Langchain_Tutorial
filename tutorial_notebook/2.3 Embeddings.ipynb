{
 "cells": [
  {
   "cell_type": "code",
   "execution_count": 6,
   "id": "5739baa6",
   "metadata": {},
   "outputs": [
    {
     "name": "stdout",
     "output_type": "stream",
     "text": [
      "Your api key········\n"
     ]
    }
   ],
   "source": [
    "import os\n",
    "from getpass import getpass\n",
    "\n",
    "os.environ[\"OPENAI_API_KEY\"] = getpass(prompt=\"Your api key\")"
   ]
  },
  {
   "cell_type": "markdown",
   "id": "ccc02a55",
   "metadata": {},
   "source": [
    "## 1. embed_documents"
   ]
  },
  {
   "cell_type": "code",
   "execution_count": 3,
   "id": "b29a6f19",
   "metadata": {},
   "outputs": [
    {
     "data": {
      "text/plain": [
       "(5, 1536)"
      ]
     },
     "execution_count": 3,
     "metadata": {},
     "output_type": "execute_result"
    }
   ],
   "source": [
    "from langchain_openai import OpenAIEmbeddings\n",
    "\n",
    "embeddings_model = OpenAIEmbeddings()\n",
    "\n",
    "embeddings = embeddings_model.embed_documents(\n",
    "    [\n",
    "        \"Hi there!\",\n",
    "        \"Oh, hello!\",\n",
    "        \"What's your name?\",\n",
    "        \"My friends call me World\",\n",
    "        \"Hello World!\"\n",
    "    ]\n",
    ")\n",
    "# openai的embedding向量维度默认为1536\n",
    "len(embeddings), len(embeddings[0])"
   ]
  },
  {
   "cell_type": "markdown",
   "id": "67ac368a",
   "metadata": {},
   "source": [
    "## 2. embed_query"
   ]
  },
  {
   "cell_type": "code",
   "execution_count": 5,
   "id": "e6e2ca93",
   "metadata": {},
   "outputs": [
    {
     "data": {
      "text/plain": [
       "[0.0053772740534241935,\n",
       " -0.0006527779663918577,\n",
       " 0.038980290283414216,\n",
       " -0.002967397499514861,\n",
       " -0.008834564037682272]"
      ]
     },
     "execution_count": 5,
     "metadata": {},
     "output_type": "execute_result"
    }
   ],
   "source": [
    "embedded_query = embeddings_model.embed_query(\"What was the name mentioned in the conversation?\")\n",
    "embedded_query[:5]"
   ]
  },
  {
   "cell_type": "markdown",
   "id": "4d13dea7",
   "metadata": {},
   "source": [
    "## 3. Caching\n",
    "+ 使用CacheBackedEmbeddings\n",
    "+ 初始化CacheBackedEmbeddings的方法是from_bytes_store\n",
    "    + underlying_embedder: The embedder to use for embedding.\n",
    "    + document_embedding_cache: Any ByteStore for caching document embeddings.\n",
    "   "
   ]
  },
  {
   "cell_type": "code",
   "execution_count": 8,
   "id": "ea33c42f",
   "metadata": {},
   "outputs": [],
   "source": [
    "from langchain.embeddings import CacheBackedEmbeddings\n",
    "from langchain.storage import LocalFileStore\n",
    "from langchain.text_splitter import CharacterTextSplitter\n",
    "from langchain_community.document_loaders import TextLoader\n",
    "from langchain_community.vectorstores import FAISS\n",
    "from langchain_openai import OpenAIEmbeddings\n",
    "\n",
    "underlying_embeddings = OpenAIEmbeddings()\n",
    "\n",
    "store = LocalFileStore(\"./cache/\")\n",
    "\n",
    "cached_embedder = CacheBackedEmbeddings.from_bytes_store(\n",
    "    underlying_embeddings, store, namespace=underlying_embeddings.model\n",
    ")"
   ]
  },
  {
   "cell_type": "markdown",
   "id": "c4d66ad8",
   "metadata": {},
   "source": [
    "嵌入之前没有缓存"
   ]
  },
  {
   "cell_type": "code",
   "execution_count": 9,
   "id": "4f0730ac",
   "metadata": {},
   "outputs": [
    {
     "data": {
      "text/plain": [
       "[]"
      ]
     },
     "execution_count": 9,
     "metadata": {},
     "output_type": "execute_result"
    }
   ],
   "source": [
    "list(store.yield_keys())"
   ]
  },
  {
   "cell_type": "code",
   "execution_count": 11,
   "id": "78433135",
   "metadata": {},
   "outputs": [],
   "source": [
    "raw_documents = TextLoader(\"./example data/HuggingFaceOverview.txt\").load()\n",
    "text_splitter = CharacterTextSplitter(chunk_size=1000, chunk_overlap=0)\n",
    "documents = text_splitter.split_documents(raw_documents)"
   ]
  },
  {
   "cell_type": "markdown",
   "id": "57b0e769",
   "metadata": {},
   "source": [
    "第一次创建向量存储"
   ]
  },
  {
   "cell_type": "code",
   "execution_count": 12,
   "id": "e2332487",
   "metadata": {},
   "outputs": [
    {
     "name": "stdout",
     "output_type": "stream",
     "text": [
      "CPU times: user 72.8 ms, sys: 32.3 ms, total: 105 ms\n",
      "Wall time: 1.68 s\n"
     ]
    }
   ],
   "source": [
    "%%time\n",
    "db = FAISS.from_documents(documents, cached_embedder)"
   ]
  },
  {
   "cell_type": "markdown",
   "id": "3e35dad8",
   "metadata": {},
   "source": [
    "第二次向量存储会快很多，因为不需要重新计算词嵌入"
   ]
  },
  {
   "cell_type": "code",
   "execution_count": 13,
   "id": "d63e2e65",
   "metadata": {},
   "outputs": [
    {
     "name": "stdout",
     "output_type": "stream",
     "text": [
      "CPU times: user 3.74 ms, sys: 2.21 ms, total: 5.95 ms\n",
      "Wall time: 6.05 ms\n"
     ]
    }
   ],
   "source": [
    "%%time\n",
    "db2 = FAISS.from_documents(documents, cached_embedder)"
   ]
  },
  {
   "cell_type": "code",
   "execution_count": 14,
   "id": "4011026c",
   "metadata": {
    "scrolled": true
   },
   "outputs": [
    {
     "data": {
      "text/plain": [
       "['text-embedding-ada-002e0431e9f-fc84-5090-94ef-1fbd28a73ea3',\n",
       " 'text-embedding-ada-00263711f6a-a725-592f-8dec-662c2a2407eb']"
      ]
     },
     "execution_count": 14,
     "metadata": {},
     "output_type": "execute_result"
    }
   ],
   "source": [
    "list(store.yield_keys())[:5]"
   ]
  },
  {
   "cell_type": "markdown",
   "id": "a935f738",
   "metadata": {},
   "source": [
    "创建可以交换的ByteStore"
   ]
  },
  {
   "cell_type": "code",
   "execution_count": 15,
   "id": "ac444361",
   "metadata": {},
   "outputs": [],
   "source": [
    "from langchain.embeddings import CacheBackedEmbeddings\n",
    "from langchain.storage import InMemoryByteStore\n",
    "\n",
    "store = InMemoryByteStore()\n",
    "\n",
    "cached_embedder = CacheBackedEmbeddings.from_bytes_store(\n",
    "    underlying_embeddings, store, namespace=underlying_embeddings.model\n",
    ")"
   ]
  }
 ],
 "metadata": {
  "kernelspec": {
   "display_name": "pytorch",
   "language": "python",
   "name": "pytorch"
  },
  "language_info": {
   "codemirror_mode": {
    "name": "ipython",
    "version": 3
   },
   "file_extension": ".py",
   "mimetype": "text/x-python",
   "name": "python",
   "nbconvert_exporter": "python",
   "pygments_lexer": "ipython3",
   "version": "3.11.7"
  }
 },
 "nbformat": 4,
 "nbformat_minor": 5
}
